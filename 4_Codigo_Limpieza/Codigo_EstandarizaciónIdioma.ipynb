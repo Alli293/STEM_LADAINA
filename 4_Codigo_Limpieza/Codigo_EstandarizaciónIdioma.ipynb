{
 "cells": [
  {
   "cell_type": "markdown",
   "id": "d2b3a68f",
   "metadata": {},
   "source": [
    "Filtracion de idiomas(1.Traduccion de datos Revision de resultados, si no es convincente trabajaremos solo con los datos en español )"
   ]
  },
  {
   "cell_type": "code",
   "execution_count": 12,
   "id": "49e76401",
   "metadata": {},
   "outputs": [
    {
     "name": "stdout",
     "output_type": "stream",
     "text": [
      "         Fuente            Categoría  \\\n",
      "0  Computrabajo  Software Developers   \n",
      "1  Computrabajo  Software Developers   \n",
      "2  Computrabajo  Software Developers   \n",
      "3  Computrabajo       Web Developers   \n",
      "4  Computrabajo       Web Developers   \n",
      "\n",
      "                                              Título  \\\n",
      "0                             Analista desarrollador   \n",
      "1                          Programador Sistemas .Net   \n",
      "2  Técnico en Soporte Informático San José Cartag...   \n",
      "3                   Desarrollador Senior TI (Oracle)   \n",
      "4                     Técnico en Soporte informático   \n",
      "\n",
      "                                             Empresa  \\\n",
      "0  FACTOR K QUINIENTOS SEIS SC SOCIEDAD DE RESPON...   \n",
      "1                     Architect Technology Solutions   \n",
      "2                                  SOPORTEXPERTO.COM   \n",
      "3                                            Asembis   \n",
      "4                                    No especificado   \n",
      "\n",
      "                          Ubicación        Modalidad Idioma Solicitado  \\\n",
      "0      Heredia, Heredia, Costa Rica           Remoto   No especificado   \n",
      "1      Paraíso, Cartago, Costa Rica  No especificado   No especificado   \n",
      "2    San José, San José, Costa Rica  No especificado   No especificado   \n",
      "3  Goicoechea, San José, Costa Rica  No especificado   No especificado   \n",
      "4      Heredia, Heredia, Costa Rica  No especificado   No especificado   \n",
      "\n",
      "   Nivel de Puesto                 Salario  Tipo de Empresa        Fecha  \\\n",
      "0  No identificado         No especificado  No especificado   julio 2025   \n",
      "1  No identificado         No especificado  No especificado   julio 2025   \n",
      "2  No identificado  450 000,00 ₡ (Mensual)  No especificado   julio 2025   \n",
      "3  No identificado         No especificado  No especificado  agosto 2025   \n",
      "4  No identificado  550 000,00 ₡ (Mensual)  No especificado  agosto 2025   \n",
      "\n",
      "                                         Descripción  \\\n",
      "0  Requisitos﻿﻿Bachiller universitario en Ingenie...   \n",
      "1  Programador de sistemas con herramientas Micro...   \n",
      "2  Soporte Usuario Final1.Instalación, optimizaci...   \n",
      "3  Diseñar, desarrollar y mantener soluciones tec...   \n",
      "4  Mantenimiento preventivo y correctivo de PC’s,...   \n",
      "\n",
      "                                                 URL  \\\n",
      "0  https://cr.computrabajo.com/ofertas-de-trabajo...   \n",
      "1  https://cr.computrabajo.com/ofertas-de-trabajo...   \n",
      "2  https://cr.computrabajo.com/ofertas-de-trabajo...   \n",
      "3  https://cr.computrabajo.com/ofertas-de-trabajo...   \n",
      "4  https://cr.computrabajo.com/ofertas-de-trabajo...   \n",
      "\n",
      "                                      Palabras_Clave           Idioma  \\\n",
      "0                    analyst, developer, programador  No especificado   \n",
      "1  developer, desarrollador, system, dotnet, net,...  No especificado   \n",
      "2  tecnologo, tecnico, tech, technician, technolo...  No especificado   \n",
      "3                 developer, programador, senior, sr  No especificado   \n",
      "4  tecnologo, tecnico, tech, technician, technolo...  No especificado   \n",
      "\n",
      "  Nivel del Puesto Link Categoría STEM  Tags  \n",
      "0  No identificado  NaN            NaN   NaN  \n",
      "1  No identificado  NaN            NaN   NaN  \n",
      "2  No identificado  NaN            NaN   NaN  \n",
      "3         Avanzado  NaN            NaN   NaN  \n",
      "4  No identificado  NaN            NaN   NaN  \n"
     ]
    }
   ],
   "source": [
    "import pandas as pd \n",
    "ruta_csv = 'C:/Users/Allis/OneDrive/UniversidadCenfo2025/Practicaclase2procesos/STEM_LADAINA/2_Datasets_Webscraping/20251012/Datasets_Unidos_Raw.csv'\n",
    "df = pd.read_csv(ruta_csv)\n",
    "print(df.head())"
   ]
  },
  {
   "cell_type": "code",
   "execution_count": null,
   "id": "474963d0",
   "metadata": {},
   "outputs": [],
   "source": [
    "#from googletrans import Translator\n",
    "#translator = Translator()\n",
    "\n",
    "#def traducir_texto(texto,destino='es'):\n",
    " #   try:\n",
    "  #       return translator.translate(texto, dest=destino).text\n",
    "   # except:\n",
    "    #    return texto  # si hay error, devuelve el texto original\n",
    "#columnas = ['Título']\n",
    "\n",
    "#for col in columnas:\n",
    " #   df[col + '_traducido'] = df[col].apply(traducir_texto)\n",
    "    \n",
    "#print(df.head())\n"
   ]
  },
  {
   "cell_type": "code",
   "execution_count": 13,
   "id": "8a899797",
   "metadata": {},
   "outputs": [
    {
     "name": "stdout",
     "output_type": "stream",
     "text": [
      "                                              Título  \\\n",
      "2638   Técnico de Servicios HVAC Barranca Puntarenas   \n",
      "1486                           Programador FullStack   \n",
      "9514                          Senior DevOps Engineer   \n",
      "1056                        Asistente Administrativa   \n",
      "10254            Human Resources Associate Mid level   \n",
      "2457                      Senior Executive Assistant   \n",
      "3037                         Associate Data Engineer   \n",
      "7145                   Customer Experience Associate   \n",
      "2405               Doctor/a especialista en estetica   \n",
      "7702                 Senior Python Backend Engineer    \n",
      "\n",
      "                                           titulo_es  \\\n",
      "2638   Técnico de Servicios HVAC Barranca Puntarenas   \n",
      "1486                           Programador FullStack   \n",
      "9514                                            None   \n",
      "1056                                            None   \n",
      "10254                                           None   \n",
      "2457                                            None   \n",
      "3037                                            None   \n",
      "7145                                            None   \n",
      "2405               Doctor/a especialista en estetica   \n",
      "7702                                            None   \n",
      "\n",
      "                                 titulo_en  \n",
      "2638                                  None  \n",
      "1486                                  None  \n",
      "9514                                  None  \n",
      "1056                                  None  \n",
      "10254  Human Resources Associate Mid level  \n",
      "2457            Senior Executive Assistant  \n",
      "3037               Associate Data Engineer  \n",
      "7145         Customer Experience Associate  \n",
      "2405                                  None  \n",
      "7702       Senior Python Backend Engineer   \n"
     ]
    }
   ],
   "source": [
    "from langdetect import detect\n",
    "\n",
    "# Función para detectar español\n",
    "def es_espanol(s):\n",
    "    try:\n",
    "        return detect(str(s)) == \"es\"\n",
    "    except:\n",
    "        return True  # si falla, asumimos español\n",
    "\n",
    "# Función para detectar inglés\n",
    "def es_ingles(s):\n",
    "    try:\n",
    "        return detect(str(s)) == \"en\"\n",
    "    except:\n",
    "        return False  # si falla, no es inglés\n",
    "\n",
    "# Crear nuevas columnas vacías\n",
    "df[\"titulo_es\"] = None\n",
    "df[\"titulo_en\"] = None\n",
    "\n",
    "# Llenar las columnas según el idioma\n",
    "for idx, row in df.iterrows():\n",
    "    texto = row[\"Título\"]\n",
    "    if es_espanol(texto):\n",
    "        df.at[idx, \"titulo_es\"] = texto\n",
    "    elif es_ingles(texto):\n",
    "        df.at[idx, \"titulo_en\"] = texto\n",
    "\n",
    "# Vista rápida para validar\n",
    "print(df[[\"Título\", \"titulo_es\", \"titulo_en\"]].sample(min(10, len(df)), random_state=42))\n"
   ]
  },
  {
   "cell_type": "code",
   "execution_count": 14,
   "id": "4933d082",
   "metadata": {},
   "outputs": [],
   "source": [
    "df.to_csv('C:/Users/Allis/OneDrive/UniversidadCenfo2025/Practicaclase2procesos/STEM_LADAINA/7_Datasets_Variaciones/Dataset_DivididoPorIdioma.csv', index=False)\n"
   ]
  },
  {
   "cell_type": "code",
   "execution_count": 15,
   "id": "1f9ef57e",
   "metadata": {},
   "outputs": [
    {
     "name": "stdout",
     "output_type": "stream",
     "text": [
      "6812\n",
      "916\n"
     ]
    }
   ],
   "source": [
    "print(df[\"titulo_en\"].count())\n",
    "print(df[\"titulo_es\"].count()) \n",
    "\n"
   ]
  },
  {
   "cell_type": "code",
   "execution_count": null,
   "id": "f5835825",
   "metadata": {},
   "outputs": [],
   "source": []
  }
 ],
 "metadata": {
  "kernelspec": {
   "display_name": "base",
   "language": "python",
   "name": "python3"
  },
  "language_info": {
   "codemirror_mode": {
    "name": "ipython",
    "version": 3
   },
   "file_extension": ".py",
   "mimetype": "text/x-python",
   "name": "python",
   "nbconvert_exporter": "python",
   "pygments_lexer": "ipython3",
   "version": "3.11.7"
  }
 },
 "nbformat": 4,
 "nbformat_minor": 5
}
