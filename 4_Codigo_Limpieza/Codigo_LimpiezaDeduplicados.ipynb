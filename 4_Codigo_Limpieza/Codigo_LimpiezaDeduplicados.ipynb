{
 "cells": [
  {
   "cell_type": "markdown",
   "id": "eef0d513",
   "metadata": {},
   "source": [
    "Limpieza de duplicados usando huella: Fuente, Empresa, Titulo, Ubicacion. Sin importar idioma "
   ]
  },
  {
   "cell_type": "code",
   "execution_count": null,
   "id": "c97c3fb8",
   "metadata": {},
   "outputs": [],
   "source": [
    "import pandas as pd \n",
    "ruta_csv = 'C:/Users/Allis/OneDrive/UniversidadCenfo2025/Practicaclase2procesos/STEM_LADAINA/2_Datasets_Webscraping/20251012/Datasets_Unidos_Raw.csv'\n",
    "df = pd.read_csv(ruta_csv)\n",
    "print(df.head())"
   ]
  },
  {
   "cell_type": "code",
   "execution_count": null,
   "id": "f82c6114",
   "metadata": {},
   "outputs": [
    {
     "name": "stdout",
     "output_type": "stream",
     "text": [
      "Filas antes: 10887\n",
      "Filas después de eliminar duplicados exactos: 10887\n"
     ]
    }
   ],
   "source": [
    "# Eliminar filas idénticas en todas las columnas (Prueba a eleminar datos exactamente iguales es decir filas cuyos campos son todos iguals)\n",
    "df_dedup = df.drop_duplicates(keep='first')  # mantiene la primera aparición\n",
    "\n",
    "# Mostrar cuántas filas se eliminaron\n",
    "print(\"Filas antes:\", len(df))\n",
    "print(\"Filas después de eliminar duplicados exactos:\", len(df_dedup))\n"
   ]
  },
  {
   "cell_type": "code",
   "execution_count": 15,
   "id": "f457531a",
   "metadata": {},
   "outputs": [
    {
     "name": "stdout",
     "output_type": "stream",
     "text": [
      "Filas antes: 10887\n",
      "Filas después de eliminar duplicados exactos: 7949\n"
     ]
    }
   ],
   "source": [
    "# Marcar duplicados exactos según las columnas indicadas\n",
    "df['duplicado'] = df.duplicated(\n",
    "    subset=['Fuente', 'Empresa', 'Título', 'Ubicación', 'Descripción', 'URL', 'Link'],\n",
    "    keep=False\n",
    ")\n",
    "\n",
    "# Filtrar solo los duplicados para revisar\n",
    "duplicados = df[df['duplicado']]\n",
    "\n",
    "# Mostrar las primeras 20 filas duplicadas\n",
    "#print(duplicados[['Fuente','Empresa','Título','Ubicación','Descripción','URL','Link']].head(20))\n",
    "print(\"Filas antes:\", len(df))\n",
    "print(\"Filas después de eliminar duplicados exactos:\", len(duplicados))"
   ]
  },
  {
   "cell_type": "code",
   "execution_count": null,
   "id": "a609461a",
   "metadata": {},
   "outputs": [
    {
     "name": "stdout",
     "output_type": "stream",
     "text": [
      "Filas antes: 10887\n",
      "Filas después de deduplicar: 1543\n"
     ]
    }
   ],
   "source": [
    "# Eliminamos duplicados basados en portal, empresa, título y ubicación\n",
    "df_dedup = df.drop_duplicates(subset=['Fuente','Empresa','Título','Ubicación'])\n",
    "\n",
    "# Mostramos la cantidad de filas antes y después\n",
    "print(\"Filas antes:\", len(df))\n",
    "print(\"Filas después de deduplicar:\", len(df_dedup))\n",
    "\n"
   ]
  },
  {
   "cell_type": "code",
   "execution_count": 5,
   "id": "b6bfa69a",
   "metadata": {},
   "outputs": [],
   "source": [
    "# Guardar el DataFrame df en un archivo CSV\n",
    "df_dedup.to_csv('C:/Users/Allis/OneDrive/UniversidadCenfo2025/Practicaclase2procesos/STEM_LADAINA/7_Datasets_Variaciones/Dataset_SinDeduplicados.csv', index=False)\n"
   ]
  },
  {
   "cell_type": "code",
   "execution_count": null,
   "id": "6f4ff9b5",
   "metadata": {},
   "outputs": [],
   "source": []
  }
 ],
 "metadata": {
  "kernelspec": {
   "display_name": "base",
   "language": "python",
   "name": "python3"
  },
  "language_info": {
   "codemirror_mode": {
    "name": "ipython",
    "version": 3
   },
   "file_extension": ".py",
   "mimetype": "text/x-python",
   "name": "python",
   "nbconvert_exporter": "python",
   "pygments_lexer": "ipython3",
   "version": "3.11.7"
  }
 },
 "nbformat": 4,
 "nbformat_minor": 5
}
